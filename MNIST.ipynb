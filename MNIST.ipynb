{
 "cells": [
  {
   "attachments": {},
   "cell_type": "markdown",
   "metadata": {},
   "source": [
    "# Распознавание рукописных цифр MNIST"
   ]
  },
  {
   "attachments": {},
   "cell_type": "markdown",
   "metadata": {},
   "source": [
    "## Подготовка данных"
   ]
  },
  {
   "cell_type": "code",
   "execution_count": 1,
   "metadata": {},
   "outputs": [
    {
     "name": "stderr",
     "output_type": "stream",
     "text": [
      "2023-03-27 21:04:54.071203: I tensorflow/core/platform/cpu_feature_guard.cc:193] This TensorFlow binary is optimized with oneAPI Deep Neural Network Library (oneDNN) to use the following CPU instructions in performance-critical operations:  AVX2 FMA\n",
      "To enable them in other operations, rebuild TensorFlow with the appropriate compiler flags.\n"
     ]
    }
   ],
   "source": [
    "from tensorflow.keras.datasets import mnist \n",
    "from tensorflow.keras.models import Sequential \n",
    "from tensorflow.keras.layers import Dense \n",
    "from tensorflow.keras.optimizers import Adam \n",
    "from tensorflow.keras import utils # Утилиты для to_categorical\n",
    "from tensorflow.keras.preprocessing import image # Для отрисовки изображений\n",
    "import numpy as np \n",
    "import matplotlib.pyplot as plt \n",
    "from PIL import Image # Отрисовка изображений"
   ]
  },
  {
   "cell_type": "code",
   "execution_count": 2,
   "metadata": {},
   "outputs": [],
   "source": [
    "(x_train_org, y_train_org), (x_test_org, y_test_org) = mnist.load_data() # Загружаю данные MNIST"
   ]
  },
  {
   "cell_type": "code",
   "execution_count": 3,
   "metadata": {},
   "outputs": [
    {
     "data": {
      "text/plain": [
       "(60000, 28, 28)"
      ]
     },
     "execution_count": 3,
     "metadata": {},
     "output_type": "execute_result"
    }
   ],
   "source": [
    "x_train_org.shape # Проверка"
   ]
  },
  {
   "cell_type": "code",
   "execution_count": 4,
   "metadata": {},
   "outputs": [
    {
     "data": {
      "image/png": "[encoded data removed]",
      "text/plain": [
       "<Figure size 640x480 with 1 Axes>"
      ]
     },
     "metadata": {},
     "output_type": "display_data"
    }
   ],
   "source": [
    "n = 146 # Номер картинки\n",
    "plt.imshow(Image.fromarray(x_train_org[n]).convert('RGB')) # Отрисовка картинки\n",
    "plt.show() # Вывод картинки "
   ]
  },
  {
   "cell_type": "code",
   "execution_count": 5,
   "metadata": {},
   "outputs": [
    {
     "name": "stdout",
     "output_type": "stream",
     "text": [
      "(60000, 784)\n",
      "(10000, 784)\n"
     ]
    }
   ],
   "source": [
    "# Меняю формат входных картинок с 28х28 на 784х1\n",
    "x_train = x_train_org.reshape(60000, 784)\n",
    "x_test = x_test_org.reshape(10000, 784)\n",
    "print(x_train.shape)\n",
    "print(x_test.shape)"
   ]
  },
  {
   "cell_type": "code",
   "execution_count": 6,
   "metadata": {},
   "outputs": [],
   "source": [
    "# Нормализую входные данные\n",
    "x_train = x_train.astype('float32') # Преобразовываю в тип float\n",
    "x_train = x_train / 255 # Делю на 255, чтобы диапазон был от 0 до 1\n",
    "x_test = x_test.astype('float32') # Преобразовываю в тип float \n",
    "x_test = x_test / 255 # Делю на 255, чтобы диапазон был от 0 до 1"
   ]
  },
  {
   "cell_type": "code",
   "execution_count": 7,
   "metadata": {},
   "outputs": [],
   "source": [
    "# Преобразую ответы в формат one_hot_encoding\n",
    "y_train = utils.to_categorical(y_train_org, 10)\n",
    "y_test = utils.to_categorical(y_test_org, 10)"
   ]
  },
  {
   "cell_type": "code",
   "execution_count": 8,
   "metadata": {},
   "outputs": [
    {
     "name": "stdout",
     "output_type": "stream",
     "text": [
      "[0. 0. 0. 0. 0. 1. 0. 0. 0. 0.]\n"
     ]
    }
   ],
   "source": [
    "print(y_train[0]) # Вывожу нормированный и преобразованный пример"
   ]
  },
  {
   "attachments": {},
   "cell_type": "markdown",
   "metadata": {},
   "source": [
    "## Создание нейронной сети"
   ]
  },
  {
   "cell_type": "code",
   "execution_count": 9,
   "metadata": {},
   "outputs": [
    {
     "name": "stderr",
     "output_type": "stream",
     "text": [
      "2023-03-27 21:05:00.140488: I tensorflow/core/platform/cpu_feature_guard.cc:193] This TensorFlow binary is optimized with oneAPI Deep Neural Network Library (oneDNN) to use the following CPU instructions in performance-critical operations:  AVX2 FMA\n",
      "To enable them in other operations, rebuild TensorFlow with the appropriate compiler flags.\n"
     ]
    }
   ],
   "source": [
    "model = Sequential() # Создаю сеть прямого распространения\n",
    "model.add(Dense(800, input_dim = 784, activation = 'relu')) # Добавляю полносвязный слой на 800 нейронов с RELU-активацией\n",
    "model.add(Dense(400, activation = 'relu')) # Добавляю полносвязный слой на 400 нейронов с RELU-активацией\n",
    "model.add(Dense(10, activation = 'softmax')) # Добавляю полносвязный слой на 10 нейронов с softmax-активацией"
   ]
  },
  {
   "cell_type": "code",
   "execution_count": 10,
   "metadata": {},
   "outputs": [
    {
     "name": "stdout",
     "output_type": "stream",
     "text": [
      "Model: \"sequential\"\n",
      "_________________________________________________________________\n",
      " Layer (type)                Output Shape              Param #   \n",
      "=================================================================\n",
      " dense (Dense)               (None, 800)               628000    \n",
      "                                                                 \n",
      " dense_1 (Dense)             (None, 400)               320400    \n",
      "                                                                 \n",
      " dense_2 (Dense)             (None, 10)                4010      \n",
      "                                                                 \n",
      "=================================================================\n",
      "Total params: 952,410\n",
      "Trainable params: 952,410\n",
      "Non-trainable params: 0\n",
      "_________________________________________________________________\n",
      "None\n"
     ]
    }
   ],
   "source": [
    "model.compile(optimizer = Adam(), loss = 'categorical_crossentropy', metrics = ['accuracy']) # Компилируею модель\n",
    "print(model.summary()) # Вывожу структуру модели"
   ]
  },
  {
   "cell_type": "code",
   "execution_count": 11,
   "metadata": {},
   "outputs": [
    {
     "name": "stdout",
     "output_type": "stream",
     "text": [
      "Epoch 1/15\n",
      "469/469 [==============================] - 5s 9ms/step - loss: 0.2057 - accuracy: 0.9385\n",
      "Epoch 2/15\n",
      "469/469 [==============================] - 5s 10ms/step - loss: 0.0763 - accuracy: 0.9763\n",
      "Epoch 3/15\n",
      "469/469 [==============================] - 5s 10ms/step - loss: 0.0475 - accuracy: 0.9847\n",
      "Epoch 4/15\n",
      "469/469 [==============================] - 5s 10ms/step - loss: 0.0341 - accuracy: 0.9892\n",
      "Epoch 5/15\n",
      "469/469 [==============================] - 5s 10ms/step - loss: 0.0259 - accuracy: 0.9917\n",
      "Epoch 6/15\n",
      "469/469 [==============================] - 4s 10ms/step - loss: 0.0210 - accuracy: 0.9930\n",
      "Epoch 7/15\n",
      "469/469 [==============================] - 4s 9ms/step - loss: 0.0206 - accuracy: 0.9930\n",
      "Epoch 8/15\n",
      "469/469 [==============================] - 4s 9ms/step - loss: 0.0153 - accuracy: 0.9947\n",
      "Epoch 9/15\n",
      "469/469 [==============================] - 5s 10ms/step - loss: 0.0139 - accuracy: 0.9953\n",
      "Epoch 10/15\n",
      "469/469 [==============================] - 5s 10ms/step - loss: 0.0133 - accuracy: 0.9958\n",
      "Epoch 11/15\n",
      "469/469 [==============================] - 5s 10ms/step - loss: 0.0107 - accuracy: 0.9966\n",
      "Epoch 12/15\n",
      "469/469 [==============================] - 5s 10ms/step - loss: 0.0118 - accuracy: 0.9959\n",
      "Epoch 13/15\n",
      "469/469 [==============================] - 5s 10ms/step - loss: 0.0129 - accuracy: 0.9962\n",
      "Epoch 14/15\n",
      "469/469 [==============================] - 4s 9ms/step - loss: 0.0091 - accuracy: 0.9971\n",
      "Epoch 15/15\n",
      "469/469 [==============================] - 5s 10ms/step - loss: 0.0066 - accuracy: 0.9980\n"
     ]
    },
    {
     "data": {
      "text/plain": [
       "<keras.callbacks.History at 0x160b9b3a0>"
      ]
     },
     "execution_count": 11,
     "metadata": {},
     "output_type": "execute_result"
    }
   ],
   "source": [
    "model.fit(x_train, y_train, batch_size = 128, epochs = 15, verbose = 1)"
   ]
  },
  {
   "cell_type": "code",
   "execution_count": null,
   "metadata": {},
   "outputs": [],
   "source": [
    "model.save_weights('model.h5')\n",
    "model.load_weights('model.h5')"
   ]
  },
  {
   "attachments": {},
   "cell_type": "markdown",
   "metadata": {},
   "source": [
    "## Распознавание рукописных цифр"
   ]
  },
  {
   "cell_type": "code",
   "execution_count": 13,
   "metadata": {},
   "outputs": [
    {
     "data": {
      "image/png": "[encoded data removed]",
      "text/plain": [
       "<Figure size 640x480 with 1 Axes>"
      ]
     },
     "metadata": {},
     "output_type": "display_data"
    }
   ],
   "source": [
    "img = 387 # Номер тестовой цифры, которую будем распознавать\n",
    "plt.imshow(Image.fromarray(x_test_org[img]).convert('RGBA')) # Отображаю картинку из тестового набора \n",
    "plt.show()"
   ]
  },
  {
   "cell_type": "code",
   "execution_count": 16,
   "metadata": {},
   "outputs": [
    {
     "name": "stdout",
     "output_type": "stream",
     "text": [
      "(784,)\n"
     ]
    }
   ],
   "source": [
    "# Выбираю нужную картинку из тестовой выборки\n",
    "testImg = x_test[img]\n",
    "print(testImg.shape)"
   ]
  },
  {
   "cell_type": "code",
   "execution_count": 17,
   "metadata": {},
   "outputs": [
    {
     "name": "stdout",
     "output_type": "stream",
     "text": [
      "(1, 784)\n"
     ]
    }
   ],
   "source": [
    "# Добавляю одну размерность в конце, чтобы нейросеть могла распознать пример\n",
    "# Поскольку нейросеть принимает массив примеров для распознавания\n",
    "# Делаю массив из одного примера\n",
    "testImg = np.expand_dims(testImg, axis = 0)\n",
    "print(testImg.shape)"
   ]
  },
  {
   "cell_type": "code",
   "execution_count": 18,
   "metadata": {},
   "outputs": [
    {
     "name": "stdout",
     "output_type": "stream",
     "text": [
      "1/1 [==============================] - 0s 80ms/step\n"
     ]
    }
   ],
   "source": [
    "prediction = model.predict(testImg) # Распознаем пример"
   ]
  },
  {
   "cell_type": "code",
   "execution_count": 19,
   "metadata": {},
   "outputs": [
    {
     "name": "stdout",
     "output_type": "stream",
     "text": [
      "2\n"
     ]
    }
   ],
   "source": [
    "pred = np.argmax(prediction) # Получаем индекс самого большого элемента (итоговая цифра, которую распознала нейросеть)\n",
    "print(pred)"
   ]
  },
  {
   "cell_type": "code",
   "execution_count": 21,
   "metadata": {},
   "outputs": [
    {
     "name": "stdout",
     "output_type": "stream",
     "text": [
      "2\n"
     ]
    }
   ],
   "source": [
    "print(y_test_org[img]) # Выводим правильный ответ, для сравнения"
   ]
  }
 ],
 "metadata": {
  "kernelspec": {
   "display_name": "Python 3",
   "language": "python",
   "name": "python3"
  },
  "language_info": {
   "codemirror_mode": {
    "name": "ipython",
    "version": 3
   },
   "file_extension": ".py",
   "mimetype": "text/x-python",
   "name": "python",
   "nbconvert_exporter": "python",
   "pygments_lexer": "ipython3",
   "version": "3.9.6"
  },
  "orig_nbformat": 4
 },
 "nbformat": 4,
 "nbformat_minor": 2
}
